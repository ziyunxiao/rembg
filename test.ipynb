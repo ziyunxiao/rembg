{
 "cells": [
  {
   "cell_type": "code",
   "execution_count": 5,
   "metadata": {},
   "outputs": [
    {
     "name": "stdout",
     "output_type": "stream",
     "text": [
      "read file: 0.000841622008010745 seconds\n"
     ]
    },
    {
     "name": "stderr",
     "output_type": "stream",
     "text": [
      "2022-05-11 14:29:50.370638752 [W:onnxruntime:Default, onnxruntime_pybind_state.cc:509 CreateExecutionProviderInstance] Failed to create TensorrtExecutionProvider. Please reference https://onnxruntime.ai/docs/execution-providers/TensorRT-ExecutionProvider.html#requirements to ensure all dependencies are met.\n"
     ]
    },
    {
     "name": "stdout",
     "output_type": "stream",
     "text": [
      "remove: 0.7191335739917122 seconds\n",
      "save: 0.030996189001598395 seconds\n"
     ]
    }
   ],
   "source": [
    "from rembg import remove\n",
    "from PIL import Image\n",
    "import time\n",
    "\n",
    "input_path = './examples/animal-2.jpg'\n",
    "output_path = 'animal-1.png'\n",
    "\n",
    "t1 = time.perf_counter()\n",
    "input = Image.open(input_path)\n",
    "t2 = time.perf_counter()\n",
    "print(f\"read file: {t2 - t1} seconds\")\n",
    "\n",
    "output = remove(input)\n",
    "t3 = time.perf_counter()\n",
    "print(f\"remove: {t3 - t2} seconds\")\n",
    "\n",
    "output.save(output_path)\n",
    "t4 = time.perf_counter()\n",
    "print(f\"save: {t4 - t3} seconds\")\n",
    "\n",
    "\n"
   ]
  }
 ],
 "metadata": {
  "interpreter": {
   "hash": "158b623786b5ec02c4cb923bf0dbb74a9c838b71186ad6d2d2b084c525756d58"
  },
  "kernelspec": {
   "display_name": "Python 3.9.12 ('.venv': venv)",
   "language": "python",
   "name": "python3"
  },
  "language_info": {
   "codemirror_mode": {
    "name": "ipython",
    "version": 3
   },
   "file_extension": ".py",
   "mimetype": "text/x-python",
   "name": "python",
   "nbconvert_exporter": "python",
   "pygments_lexer": "ipython3",
   "version": "3.9.12"
  },
  "orig_nbformat": 4
 },
 "nbformat": 4,
 "nbformat_minor": 2
}
